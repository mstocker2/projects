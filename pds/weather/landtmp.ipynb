{
 "cells": [
  {
   "cell_type": "code",
   "execution_count": 1,
   "metadata": {},
   "outputs": [],
   "source": [
    "import pandas as pd"
   ]
  },
  {
   "cell_type": "code",
   "execution_count": 4,
   "metadata": {},
   "outputs": [
    {
     "name": "stdout",
     "output_type": "stream",
     "text": [
      "    locationid  year  month   temp  latitude  longitude  stnelev  \\\n",
      "0  USS0010K01S  2000      4   5.27   39.9000  -110.7500   2773.7   \n",
      "1  CI000085406  1940      5  18.04  -18.3500   -70.3330     58.0   \n",
      "2  USC00036376  2013     12   6.22   34.3703   -91.1242     61.0   \n",
      "3  ASN00024002  1963      2  22.93  -34.2833   140.6000     65.5   \n",
      "4  ASN00028007  2001     11    NaN  -14.7803   143.5036     79.4   \n",
      "\n",
      "            station countryid        country  \n",
      "0     INDIAN_CANYON        US  United States  \n",
      "1             ARICA        CI          Chile  \n",
      "2     SAINT_CHARLES        US  United States  \n",
      "3  BERRI_IRRIGATION        AS      Australia  \n",
      "4          MUSGRAVE        AS      Australia  \n"
     ]
    }
   ],
   "source": [
    "df=pd.read_csv('landtempssample.csv')\n",
    "print(df.head(5))"
   ]
  },
  {
   "cell_type": "code",
   "execution_count": 5,
   "metadata": {},
   "outputs": [
    {
     "name": "stdout",
     "output_type": "stream",
     "text": [
      "Index(['locationid', 'year', 'month', 'temp', 'latitude', 'longitude',\n",
      "       'stnelev', 'station', 'countryid', 'country'],\n",
      "      dtype='object')\n"
     ]
    }
   ],
   "source": [
    "print(df.columns)"
   ]
  },
  {
   "cell_type": "code",
   "execution_count": 7,
   "metadata": {},
   "outputs": [
    {
     "name": "stdout",
     "output_type": "stream",
     "text": [
      "(100000, 10)\n"
     ]
    }
   ],
   "source": [
    "print(df.shape)"
   ]
  },
  {
   "cell_type": "code",
   "execution_count": 10,
   "metadata": {},
   "outputs": [
    {
     "name": "stdout",
     "output_type": "stream",
     "text": [
      "    locationid  year  month   temp  latitude  longitude  stnelev  \\\n",
      "0  USS0010K01S  2000      4   5.27   39.9000  -110.7500   2773.7   \n",
      "1  CI000085406  1940      5  18.04  -18.3500   -70.3330     58.0   \n",
      "2  USC00036376  2013     12   6.22   34.3703   -91.1242     61.0   \n",
      "3  ASN00024002  1963      2  22.93  -34.2833   140.6000     65.5   \n",
      "4  ASN00028007  2001     11    NaN  -14.7803   143.5036     79.4   \n",
      "\n",
      "            station countryid        country       date  \n",
      "0     INDIAN_CANYON        US  United States 2000-04-01  \n",
      "1             ARICA        CI          Chile 1940-05-01  \n",
      "2     SAINT_CHARLES        US  United States 2013-12-01  \n",
      "3  BERRI_IRRIGATION        AS      Australia 1963-02-01  \n",
      "4          MUSGRAVE        AS      Australia 2001-11-01  \n"
     ]
    }
   ],
   "source": [
    "#combine year and month columns to single date\n",
    "df['date']=pd.to_datetime(df.year.astype(str) + '/' + df.month.astype(str) + '/01')\n",
    "print(df.head(5))"
   ]
  },
  {
   "cell_type": "code",
   "execution_count": 16,
   "metadata": {},
   "outputs": [
    {
     "name": "stdout",
     "output_type": "stream",
     "text": [
      "237\n"
     ]
    }
   ],
   "source": [
    "df2=len(df['countryid'].unique().tolist())\n",
    "print(df2)"
   ]
  },
  {
   "cell_type": "code",
   "execution_count": null,
   "metadata": {},
   "outputs": [],
   "source": []
  }
 ],
 "metadata": {
  "interpreter": {
   "hash": "916dbcbb3f70747c44a77c7bcd40155683ae19c65e1c03b4aa3499c5328201f1"
  },
  "kernelspec": {
   "display_name": "Python 3.8.10 64-bit",
   "language": "python",
   "name": "python3"
  },
  "language_info": {
   "codemirror_mode": {
    "name": "ipython",
    "version": 3
   },
   "file_extension": ".py",
   "mimetype": "text/x-python",
   "name": "python",
   "nbconvert_exporter": "python",
   "pygments_lexer": "ipython3",
   "version": "3.8.10"
  },
  "orig_nbformat": 4
 },
 "nbformat": 4,
 "nbformat_minor": 2
}
