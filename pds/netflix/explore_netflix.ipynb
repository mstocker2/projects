{
 "cells": [
  {
   "cell_type": "code",
   "execution_count": 4,
   "metadata": {},
   "outputs": [],
   "source": [
    "import pandas as pd\n",
    "import numpy as np\n",
    "import plotly.express as px\n",
    "from textblob import TextBlob\n",
    "import plotly.io as pio\n",
    "pio.renderers.default='browser'"
   ]
  },
  {
   "cell_type": "code",
   "execution_count": 5,
   "metadata": {},
   "outputs": [
    {
     "data": {
      "text/plain": [
       "(8807, 12)"
      ]
     },
     "execution_count": 5,
     "metadata": {},
     "output_type": "execute_result"
    }
   ],
   "source": [
    "dff=pd.read_csv('netflix_titles.csv')\n",
    "dff.shape"
   ]
  },
  {
   "cell_type": "code",
   "execution_count": 6,
   "metadata": {},
   "outputs": [
    {
     "data": {
      "text/plain": [
       "Index(['show_id', 'type', 'title', 'director', 'cast', 'country', 'date_added',\n",
       "       'release_year', 'rating', 'duration', 'listed_in', 'description'],\n",
       "      dtype='object')"
      ]
     },
     "execution_count": 6,
     "metadata": {},
     "output_type": "execute_result"
    }
   ],
   "source": [
    "dff.columns"
   ]
  },
  {
   "cell_type": "code",
   "execution_count": 7,
   "metadata": {},
   "outputs": [
    {
     "data": {
      "text/plain": [
       "<bound method BaseFigure.show of Figure({\n",
       "    'data': [{'domain': {'x': [0.0, 1.0], 'y': [0.0, 1.0]},\n",
       "              'hovertemplate': 'rating=%{label}<br>counts=%{value}<extra></extra>',\n",
       "              'labels': array(['66 min', '74 min', '84 min', 'G', 'NC-17', 'NR', 'PG', 'PG-13', 'R',\n",
       "                               'TV-14', 'TV-G', 'TV-MA', 'TV-PG', 'TV-Y', 'TV-Y7', 'TV-Y7-FV', 'UR'],\n",
       "                              dtype=object),\n",
       "              'legendgroup': '',\n",
       "              'name': '',\n",
       "              'showlegend': True,\n",
       "              'type': 'pie',\n",
       "              'values': array([   1,    1,    1,   41,    3,   80,  287,  490,  799, 2160,  220, 3207,\n",
       "                                863,  307,  334,    6,    3])}],\n",
       "    'layout': {'legend': {'tracegroupgap': 0},\n",
       "               'piecolorway': [rgb(141,211,199), rgb(255,255,179),\n",
       "                               rgb(190,186,218), rgb(251,128,114),\n",
       "                               rgb(128,177,211), rgb(253,180,98), rgb(179,222,105),\n",
       "                               rgb(252,205,229), rgb(217,217,217),\n",
       "                               rgb(188,128,189), rgb(204,235,197),\n",
       "                               rgb(255,237,111)],\n",
       "               'template': '...',\n",
       "               'title': {'text': 'Distribution of Content Rating on Netflix'}}\n",
       "})>"
      ]
     },
     "execution_count": 7,
     "metadata": {},
     "output_type": "execute_result"
    }
   ],
   "source": [
    "#analyze data by content rating\n",
    "z = dff.groupby(['rating']).size().reset_index(name='counts')\n",
    "pieChart = px.pie(z, values='counts', names='rating', \n",
    "                    title='Distribution of Content Rating on Netflix' ,\n",
    "                    color_discrete_sequence=px.colors.qualitative.Set3)\n",
    "pieChart.show"
   ]
  },
  {
   "cell_type": "code",
   "execution_count": 8,
   "metadata": {},
   "outputs": [
    {
     "name": "stdout",
     "output_type": "stream",
     "text": [
      "      rating  counts\n",
      "0     66 min       1\n",
      "1     74 min       1\n",
      "2     84 min       1\n",
      "3          G      41\n",
      "4      NC-17       3\n",
      "5         NR      80\n",
      "6         PG     287\n",
      "7      PG-13     490\n",
      "8          R     799\n",
      "9      TV-14    2160\n",
      "10      TV-G     220\n",
      "11     TV-MA    3207\n",
      "12     TV-PG     863\n",
      "13      TV-Y     307\n",
      "14     TV-Y7     334\n",
      "15  TV-Y7-FV       6\n",
      "16        UR       3\n"
     ]
    }
   ],
   "source": [
    "print(z)"
   ]
  },
  {
   "cell_type": "code",
   "execution_count": 24,
   "metadata": {},
   "outputs": [
    {
     "name": "stdout",
     "output_type": "stream",
     "text": [
      "      rating  counts\n",
      "3          G      41\n",
      "4      NC-17       3\n",
      "5         NR      80\n",
      "6         PG     287\n",
      "7      PG-13     490\n",
      "8          R     799\n",
      "9      TV-14    2160\n",
      "10      TV-G     220\n",
      "11     TV-MA    3207\n",
      "12     TV-PG     863\n",
      "13      TV-Y     307\n",
      "14     TV-Y7     334\n",
      "15  TV-Y7-FV       6\n",
      "16        UR       3\n"
     ]
    }
   ],
   "source": [
    "z.drop(z[z['rating']=='66 min'].index, inplace=True)\n",
    "z.drop(z[z['rating']=='74 min'].index, inplace=True)\n",
    "z.drop(z[z['rating']=='84 min'].index, inplace=True)\n",
    "print(z)"
   ]
  },
  {
   "cell_type": "code",
   "execution_count": null,
   "metadata": {},
   "outputs": [],
   "source": []
  }
 ],
 "metadata": {
  "interpreter": {
   "hash": "916dbcbb3f70747c44a77c7bcd40155683ae19c65e1c03b4aa3499c5328201f1"
  },
  "kernelspec": {
   "display_name": "Python 3.8.10 64-bit",
   "language": "python",
   "name": "python3"
  },
  "language_info": {
   "codemirror_mode": {
    "name": "ipython",
    "version": 3
   },
   "file_extension": ".py",
   "mimetype": "text/x-python",
   "name": "python",
   "nbconvert_exporter": "python",
   "pygments_lexer": "ipython3",
   "version": "3.8.10"
  },
  "orig_nbformat": 4
 },
 "nbformat": 4,
 "nbformat_minor": 2
}
