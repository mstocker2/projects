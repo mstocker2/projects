{
 "cells": [
  {
   "cell_type": "code",
   "execution_count": 1,
   "metadata": {},
   "outputs": [],
   "source": [
    "import pandas as pd\n",
    "import pandas as np\n",
    "nls97= pd.read_csv('nls_raw.csv')"
   ]
  },
  {
   "cell_type": "code",
   "execution_count": 2,
   "metadata": {},
   "outputs": [],
   "source": [
    "covidtotals = pd.read_csv('covidtotals.csv', parse_dates=['lastdate'])"
   ]
  },
  {
   "cell_type": "code",
   "execution_count": 3,
   "metadata": {},
   "outputs": [
    {
     "data": {
      "text/plain": [
       "(8984, 89)"
      ]
     },
     "execution_count": 3,
     "metadata": {},
     "output_type": "execute_result"
    }
   ],
   "source": [
    "nls97.shape"
   ]
  },
  {
   "cell_type": "code",
   "execution_count": 4,
   "metadata": {},
   "outputs": [
    {
     "name": "stdout",
     "output_type": "stream",
     "text": [
      "Index(['personid', 'gender', 'birthmonth', 'birthyear',\n",
      "       'highestgradecompleted', 'maritalstatus', 'childathome',\n",
      "       'childnotathome', 'wageincome', 'weeklyhrscomputer', 'weeklyhrstv',\n",
      "       'nightlyhrssleep', 'satverbal', 'satmath', 'gpaoverall', 'gpaenglish',\n",
      "       'gpamath', 'gpascience', 'highestdegree', 'govprovidejobs',\n",
      "       'govpricecontrols', 'govhealthcare', 'govelderliving', 'govindhelp',\n",
      "       'govunemp', 'govincomediff', 'govcollegefinance', 'govdecenthousing',\n",
      "       'govprotectenvironment', 'weeksworked00', 'weeksworked01',\n",
      "       'weeksworked02', 'weeksworked03', 'weeksworked04', 'weeksworked05',\n",
      "       'weeksworked06', 'weeksworked07', 'weeksworked08', 'weeksworked09',\n",
      "       'weeksworked10', 'weeksworked11', 'weeksworked12', 'weeksworked13',\n",
      "       'weeksworked14', 'weeksworked15', 'weeksworked16', 'weeksworked17',\n",
      "       'colenrfeb97', 'colenroct97', 'colenrfeb98', 'colenroct98',\n",
      "       'colenrfeb99', 'colenroct99', 'colenrfeb00', 'colenroct00',\n",
      "       'colenrfeb01', 'colenroct01', 'colenrfeb02', 'colenroct02',\n",
      "       'colenrfeb03', 'colenroct03', 'colenrfeb04', 'colenroct04',\n",
      "       'colenrfeb05', 'colenroct05', 'colenrfeb06', 'colenroct06',\n",
      "       'colenrfeb07', 'colenroct07', 'colenrfeb08', 'colenroct08',\n",
      "       'colenrfeb09', 'colenroct09', 'colenrfeb10', 'colenroct10',\n",
      "       'colenrfeb11', 'colenroct11', 'colenrfeb12', 'colenroct12',\n",
      "       'colenrfeb13', 'colenroct13', 'colenrfeb14', 'colenroct14',\n",
      "       'colenrfeb15', 'colenroct15', 'colenrfeb16', 'colenroct16',\n",
      "       'colenrfeb17', 'colenroct17'],\n",
      "      dtype='object')\n"
     ]
    }
   ],
   "source": [
    "print(nls97.columns)"
   ]
  },
  {
   "cell_type": "code",
   "execution_count": 5,
   "metadata": {},
   "outputs": [
    {
     "name": "stdout",
     "output_type": "stream",
     "text": [
      "highestgradecompleted\n",
      "5.0        1\n",
      "6.0       16\n",
      "7.0       31\n",
      "8.0      198\n",
      "9.0      292\n",
      "10.0     329\n",
      "11.0     364\n",
      "12.0    1389\n",
      "13.0     538\n",
      "14.0     750\n",
      "15.0     397\n",
      "16.0    1016\n",
      "17.0     388\n",
      "18.0     407\n",
      "19.0     203\n",
      "20.0     333\n",
      "95.0      11\n",
      "Name: gender, dtype: int64\n"
     ]
    }
   ],
   "source": [
    "nls97_year = nls97.groupby('highestgradecompleted')['gender'].count()\n",
    "print(nls97_year)"
   ]
  },
  {
   "cell_type": "code",
   "execution_count": 6,
   "metadata": {},
   "outputs": [
    {
     "name": "stdout",
     "output_type": "stream",
     "text": [
      "<class 'pandas.core.frame.DataFrame'>\n",
      "RangeIndex: 8984 entries, 0 to 8983\n",
      "Data columns (total 89 columns):\n",
      " #   Column                 Non-Null Count  Dtype  \n",
      "---  ------                 --------------  -----  \n",
      " 0   personid               8984 non-null   int64  \n",
      " 1   gender                 8984 non-null   object \n",
      " 2   birthmonth             8984 non-null   int64  \n",
      " 3   birthyear              8984 non-null   int64  \n",
      " 4   highestgradecompleted  6663 non-null   float64\n",
      " 5   maritalstatus          6672 non-null   object \n",
      " 6   childathome            4791 non-null   float64\n",
      " 7   childnotathome         4791 non-null   float64\n",
      " 8   wageincome             5091 non-null   float64\n",
      " 9   weeklyhrscomputer      6710 non-null   object \n",
      " 10  weeklyhrstv            6711 non-null   object \n",
      " 11  nightlyhrssleep        6706 non-null   float64\n",
      " 12  satverbal              1406 non-null   float64\n",
      " 13  satmath                1407 non-null   float64\n",
      " 14  gpaoverall             6004 non-null   float64\n",
      " 15  gpaenglish             5798 non-null   float64\n",
      " 16  gpamath                5766 non-null   float64\n",
      " 17  gpascience             5684 non-null   float64\n",
      " 18  highestdegree          8953 non-null   object \n",
      " 19  govprovidejobs         1833 non-null   object \n",
      " 20  govpricecontrols       1859 non-null   object \n",
      " 21  govhealthcare          1874 non-null   object \n",
      " 22  govelderliving         1872 non-null   object \n",
      " 23  govindhelp             1815 non-null   object \n",
      " 24  govunemp               1811 non-null   object \n",
      " 25  govincomediff          1775 non-null   object \n",
      " 26  govcollegefinance      1875 non-null   object \n",
      " 27  govdecenthousing       1847 non-null   object \n",
      " 28  govprotectenvironment  1860 non-null   object \n",
      " 29  weeksworked00          8603 non-null   float64\n",
      " 30  weeksworked01          8564 non-null   float64\n",
      " 31  weeksworked02          8556 non-null   float64\n",
      " 32  weeksworked03          8490 non-null   float64\n",
      " 33  weeksworked04          8458 non-null   float64\n",
      " 34  weeksworked05          8403 non-null   float64\n",
      " 35  weeksworked06          8340 non-null   float64\n",
      " 36  weeksworked07          8272 non-null   float64\n",
      " 37  weeksworked08          8186 non-null   float64\n",
      " 38  weeksworked09          8146 non-null   float64\n",
      " 39  weeksworked10          8054 non-null   float64\n",
      " 40  weeksworked11          7968 non-null   float64\n",
      " 41  weeksworked12          7747 non-null   float64\n",
      " 42  weeksworked13          7680 non-null   float64\n",
      " 43  weeksworked14          7612 non-null   float64\n",
      " 44  weeksworked15          7389 non-null   float64\n",
      " 45  weeksworked16          7068 non-null   float64\n",
      " 46  weeksworked17          6670 non-null   float64\n",
      " 47  colenrfeb97            1250 non-null   object \n",
      " 48  colenroct97            8501 non-null   object \n",
      " 49  colenrfeb98            8501 non-null   object \n",
      " 50  colenroct98            8888 non-null   object \n",
      " 51  colenrfeb99            8865 non-null   object \n",
      " 52  colenroct99            8851 non-null   object \n",
      " 53  colenrfeb00            8820 non-null   object \n",
      " 54  colenroct00            8805 non-null   object \n",
      " 55  colenrfeb01            8786 non-null   object \n",
      " 56  colenroct01            8758 non-null   object \n",
      " 57  colenrfeb02            8732 non-null   object \n",
      " 58  colenroct02            8698 non-null   object \n",
      " 59  colenrfeb03            8658 non-null   object \n",
      " 60  colenroct03            8622 non-null   object \n",
      " 61  colenrfeb04            8578 non-null   object \n",
      " 62  colenroct04            8546 non-null   object \n",
      " 63  colenrfeb05            8508 non-null   object \n",
      " 64  colenroct05            8471 non-null   object \n",
      " 65  colenrfeb06            8426 non-null   object \n",
      " 66  colenroct06            8407 non-null   object \n",
      " 67  colenrfeb07            8352 non-null   object \n",
      " 68  colenroct07            8331 non-null   object \n",
      " 69  colenrfeb08            8289 non-null   object \n",
      " 70  colenroct08            8280 non-null   object \n",
      " 71  colenrfeb09            8236 non-null   object \n",
      " 72  colenroct09            8193 non-null   object \n",
      " 73  colenrfeb10            8116 non-null   object \n",
      " 74  colenroct10            8091 non-null   object \n",
      " 75  colenrfeb11            8037 non-null   object \n",
      " 76  colenroct11            7972 non-null   object \n",
      " 77  colenrfeb12            7794 non-null   object \n",
      " 78  colenroct12            7754 non-null   object \n",
      " 79  colenrfeb13            7754 non-null   object \n",
      " 80  colenroct13            7754 non-null   object \n",
      " 81  colenrfeb14            7624 non-null   object \n",
      " 82  colenroct14            7469 non-null   object \n",
      " 83  colenrfeb15            7469 non-null   object \n",
      " 84  colenroct15            7469 non-null   object \n",
      " 85  colenrfeb16            7036 non-null   object \n",
      " 86  colenroct16            6733 non-null   object \n",
      " 87  colenrfeb17            6733 non-null   object \n",
      " 88  colenroct17            6734 non-null   object \n",
      "dtypes: float64(29), int64(3), object(57)\n",
      "memory usage: 6.1+ MB\n"
     ]
    }
   ],
   "source": [
    "nls97.info()"
   ]
  },
  {
   "cell_type": "code",
   "execution_count": 7,
   "metadata": {},
   "outputs": [
    {
     "data": {
      "text/html": [
       "<div>\n",
       "<style scoped>\n",
       "    .dataframe tbody tr th:only-of-type {\n",
       "        vertical-align: middle;\n",
       "    }\n",
       "\n",
       "    .dataframe tbody tr th {\n",
       "        vertical-align: top;\n",
       "    }\n",
       "\n",
       "    .dataframe thead th {\n",
       "        text-align: right;\n",
       "    }\n",
       "</style>\n",
       "<table border=\"1\" class=\"dataframe\">\n",
       "  <thead>\n",
       "    <tr style=\"text-align: right;\">\n",
       "      <th></th>\n",
       "      <th>0</th>\n",
       "      <th>1</th>\n",
       "    </tr>\n",
       "  </thead>\n",
       "  <tbody>\n",
       "    <tr>\n",
       "      <th>personid</th>\n",
       "      <td>100061</td>\n",
       "      <td>100139</td>\n",
       "    </tr>\n",
       "    <tr>\n",
       "      <th>gender</th>\n",
       "      <td>Female</td>\n",
       "      <td>Male</td>\n",
       "    </tr>\n",
       "    <tr>\n",
       "      <th>birthmonth</th>\n",
       "      <td>5</td>\n",
       "      <td>9</td>\n",
       "    </tr>\n",
       "    <tr>\n",
       "      <th>birthyear</th>\n",
       "      <td>1980</td>\n",
       "      <td>1983</td>\n",
       "    </tr>\n",
       "    <tr>\n",
       "      <th>highestgradecompleted</th>\n",
       "      <td>13.0</td>\n",
       "      <td>12.0</td>\n",
       "    </tr>\n",
       "    <tr>\n",
       "      <th>...</th>\n",
       "      <td>...</td>\n",
       "      <td>...</td>\n",
       "    </tr>\n",
       "    <tr>\n",
       "      <th>colenroct15</th>\n",
       "      <td>1. Not enrolled</td>\n",
       "      <td>1. Not enrolled</td>\n",
       "    </tr>\n",
       "    <tr>\n",
       "      <th>colenrfeb16</th>\n",
       "      <td>1. Not enrolled</td>\n",
       "      <td>1. Not enrolled</td>\n",
       "    </tr>\n",
       "    <tr>\n",
       "      <th>colenroct16</th>\n",
       "      <td>1. Not enrolled</td>\n",
       "      <td>1. Not enrolled</td>\n",
       "    </tr>\n",
       "    <tr>\n",
       "      <th>colenrfeb17</th>\n",
       "      <td>1. Not enrolled</td>\n",
       "      <td>1. Not enrolled</td>\n",
       "    </tr>\n",
       "    <tr>\n",
       "      <th>colenroct17</th>\n",
       "      <td>1. Not enrolled</td>\n",
       "      <td>1. Not enrolled</td>\n",
       "    </tr>\n",
       "  </tbody>\n",
       "</table>\n",
       "<p>89 rows × 2 columns</p>\n",
       "</div>"
      ],
      "text/plain": [
       "                                     0                1\n",
       "personid                        100061           100139\n",
       "gender                          Female             Male\n",
       "birthmonth                           5                9\n",
       "birthyear                         1980             1983\n",
       "highestgradecompleted             13.0             12.0\n",
       "...                                ...              ...\n",
       "colenroct15            1. Not enrolled  1. Not enrolled\n",
       "colenrfeb16            1. Not enrolled  1. Not enrolled\n",
       "colenroct16            1. Not enrolled  1. Not enrolled\n",
       "colenrfeb17            1. Not enrolled  1. Not enrolled\n",
       "colenroct17            1. Not enrolled  1. Not enrolled\n",
       "\n",
       "[89 rows x 2 columns]"
      ]
     },
     "execution_count": 7,
     "metadata": {},
     "output_type": "execute_result"
    }
   ],
   "source": [
    "nls97.head(2).T"
   ]
  },
  {
   "cell_type": "code",
   "execution_count": 8,
   "metadata": {},
   "outputs": [],
   "source": [
    "nls97.set_index('personid', inplace=True)"
   ]
  },
  {
   "cell_type": "code",
   "execution_count": 9,
   "metadata": {},
   "outputs": [
    {
     "name": "stdout",
     "output_type": "stream",
     "text": [
      "personid\n",
      "100061    Female\n",
      "100139      Male\n",
      "100284      Male\n",
      "100292      Male\n",
      "100583      Male\n",
      "           ...  \n",
      "999291    Female\n",
      "999406      Male\n",
      "999543    Female\n",
      "999698    Female\n",
      "999963    Female\n",
      "Name: gender, Length: 8984, dtype: object\n"
     ]
    }
   ],
   "source": [
    "nls97_gender = nls97['gender']\n",
    "print(nls97_gender)"
   ]
  },
  {
   "cell_type": "code",
   "execution_count": null,
   "metadata": {},
   "outputs": [],
   "source": []
  }
 ],
 "metadata": {
  "interpreter": {
   "hash": "916dbcbb3f70747c44a77c7bcd40155683ae19c65e1c03b4aa3499c5328201f1"
  },
  "kernelspec": {
   "display_name": "Python 3.8.10 64-bit",
   "language": "python",
   "name": "python3"
  },
  "language_info": {
   "codemirror_mode": {
    "name": "ipython",
    "version": 3
   },
   "file_extension": ".py",
   "mimetype": "text/x-python",
   "name": "python",
   "nbconvert_exporter": "python",
   "pygments_lexer": "ipython3",
   "version": "3.8.10"
  },
  "orig_nbformat": 4
 },
 "nbformat": 4,
 "nbformat_minor": 2
}
